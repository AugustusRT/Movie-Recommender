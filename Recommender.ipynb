{
 "cells": [
  {
   "cell_type": "markdown",
   "metadata": {},
   "source": [
    "# Simple Recommender System\n",
    "\n",
    "In this project, I create a simple movie scoring algorithm that predicts a users movie ratings based on that user's existing movie ratings and the ratings of similar users. The data is from the MovieLens database (details in the Data section). I use proximal gradient descent as the optimization algorithm for the penalized problem. \n",
    "\n",
    "Here, we are solving the objective function:\n",
    "\n",
    "$$\n",
    "\\mbox{minimize} \\ \\lambda \\|X\\|_* + \\sum_{ij \\ | \\ A_{ij} \\ is \\ known} (X_{ij} - A_{ij})^2,\n",
    "$$\n",
    "where $\\|X\\|_*$ is the nuclear norm and matrix $A$ is the data matrix provided (users and real ratings). This algorithm requires thresholding the singular values of $X$ at each iteration. Note that this is a convex relaxation of the original recommender system formulation, which attempts to minimize the rank of the matrix X (NP-Hard).\n",
    "\n",
    "The idea here is that we have a table of movies and many viewers, and each viewer as watch some tiny fraction of the movies and rated them. The output of this algorithm is the completed table, where the missing ratings for each movie are inferred from group data (similar users). "
   ]
  },
  {
   "cell_type": "markdown",
   "metadata": {},
   "source": [
    "# Data\n",
    "Datasets: http://files.grouplens.org/datasets/movielens/ml-100k/\n",
    "\n",
    "There are two files in this repository from the MovieLens database that I use. One is the base data (matrix $A$), and the other is actual ratings for testing purposes\n",
    "\n",
    "1. u1.base\n",
    "2. u1.test\n",
    "\n",
    "The full u data set is 100000 ratings by 943 users on 1682 items. Each user has rated at least 20 movies. Users and items are numbered consecutively from 1. The data is randomly ordered. \n",
    "\n",
    "The u1.base and u1.test files are a subset of the full u dataset, and are tab separated lists of:   \n",
    "user id | item id | rating | timestamp\n",
    "\n",
    "* The timestamp feature in the dataset has been ignored (not needed for this problem).\n",
    "* Additional information on the datasets available here: http://dx.doi.org/10.1145/2827872\n",
    "\n",
    "# Scoring\n",
    "Let $X$ be the output of the proximal gradient method, let $A'$ and $\\Omega'$ be the data matrix and the non-zero entry list for the test data. Then the score is \n",
    "$$\n",
    "\\frac{1}{|\\Omega'|} \\sum_{(i,j)\\in\\Omega'} | X_{ij} - A_{ij}'|.\n",
    "$$\n",
    "In other words, the average absolute deviation of the computed ratings from the predicted ratings \n",
    "\n",
    "   "
   ]
  },
  {
   "cell_type": "markdown",
   "metadata": {},
   "source": [
    "# Implement Recommender"
   ]
  },
  {
   "cell_type": "code",
   "execution_count": 28,
   "metadata": {},
   "outputs": [],
   "source": [
    "import scipy.sparse\n",
    "import scipy.linalg\n",
    "import scipy as sp\n",
    "import numpy as np\n",
    "import matplotlib.pyplot as plt"
   ]
  },
  {
   "cell_type": "code",
   "execution_count": 8,
   "metadata": {},
   "outputs": [],
   "source": [
    "# Function to load data into desired form\n",
    "def read_ml(fname, sep = '\\t'):\n",
    "    ridx, cidx, d = [], [], []\n",
    "    with open(fname) as f:\n",
    "        for l in f:\n",
    "            r, c, v, _ = l.split(sep)\n",
    "            ridx.append(int(r))\n",
    "            cidx.append(int(c))\n",
    "            d.append(int(v))\n",
    "    A = scipy.sparse.coo_matrix((d,(ridx,cidx))).tocsr()\n",
    "    W = scipy.sparse.coo_matrix(([1]*len(ridx),(ridx, cidx))).tocsr()\n",
    "    return A, W\n",
    "\n",
    "# Functions for Recommender\n",
    "def singular_value_thresholding(X, threshold):\n",
    "    U, s, Vh = sp.linalg.svd(X, full_matrices=False, compute_uv=True, overwrite_a=True)\n",
    "    return U@sp.sparse.diags(np.maximum(s - threshold, 0))@Vh\n",
    "\n",
    "def converged(X, prox_X, epsilon): # Check for convergence\n",
    "    return np.linalg.norm(X - prox_X, 'fro') < epsilon\n",
    "    \n",
    "def nuclear_norm_minimization(A, W, lambda_, maxIter=100, epsilon=1.0e-1): # Minimize nuclear norm\n",
    "    X = np.random.uniform(1, 5, size=A.shape)\n",
    "    X[A.nonzero()] = A.data\n",
    "    for _ in range(maxIter):\n",
    "        dX = (W.multiply(X)-A).multiply(2).toarray()\n",
    "        prev_X, X = X, singular_value_thresholding(X - dX, lambda_)\n",
    "        if converged(prev_X, X, epsilon): break\n",
    "    return X\n",
    "\n",
    "def report_score(X, At): #Function to calculate score\n",
    "    score = sum(np.abs(X[At.nonzero()]-At.data))/At.count_nonzero()\n",
    "    print(f'Average absolute deviation: {score:.6f}')\n",
    "    def objFunc(self, X, A, s):\n",
    "        g_x = self.gx(A, s)\n",
    "        f_x = self.fx(X, A)\n",
    "        return g_x + f_x\n",
    "\n",
    "    def gradient(self, X, A): # Define objective function gradient wrt x\n",
    "        x_gradient = np.zeros_like(A)\n",
    "        x_gradient[knownValues] = 2 * (X[knownValues] - A[knownValues])\n",
    "        return x_gradient"
   ]
  },
  {
   "cell_type": "code",
   "execution_count": 9,
   "metadata": {},
   "outputs": [
    {
     "name": "stdout",
     "output_type": "stream",
     "text": [
      "Average absolute deviation: 0.755794\n"
     ]
    }
   ],
   "source": [
    "lambda_ = 10 # selected via tuning\n",
    "A, W = read_ml('u1.base')\n",
    "X = nuclear_norm_minimization(A, W, lambda_, maxIter=200)\n",
    "report_score(X, read_ml('u1.test')[0])"
   ]
  },
  {
   "cell_type": "markdown",
   "metadata": {},
   "source": [
    "# Summary\n",
    "\n",
    "Here we can see that the recommender correctly calculated user movie scores to within 0.75 rating points (on average) of the actual values given in the test data!"
   ]
  }
 ],
 "metadata": {
  "kernelspec": {
   "display_name": "Python 3",
   "language": "python",
   "name": "python3"
  },
  "language_info": {
   "codemirror_mode": {
    "name": "ipython",
    "version": 3
   },
   "file_extension": ".py",
   "mimetype": "text/x-python",
   "name": "python",
   "nbconvert_exporter": "python",
   "pygments_lexer": "ipython3",
   "version": "3.7.4"
  }
 },
 "nbformat": 4,
 "nbformat_minor": 2
}
